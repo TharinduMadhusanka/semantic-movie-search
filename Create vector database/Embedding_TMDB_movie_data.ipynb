{
  "nbformat": 4,
  "nbformat_minor": 0,
  "metadata": {
    "colab": {
      "provenance": [],
      "gpuType": "T4",
      "mount_file_id": "1G3A8zvTJSZIIE-OHxWS55K_CBR5ZCP2F",
      "authorship_tag": "ABX9TyP4mvp2h24E+pzqTQ7cqUBo",
      "include_colab_link": true
    },
    "kernelspec": {
      "name": "python3",
      "display_name": "Python 3"
    },
    "language_info": {
      "name": "python"
    },
    "accelerator": "GPU"
  },
  "cells": [
    {
      "cell_type": "markdown",
      "metadata": {
        "id": "view-in-github",
        "colab_type": "text"
      },
      "source": [
        "<a href=\"https://colab.research.google.com/github/TharinduMadhusanka/semantic-movie-search/blob/main/Create%20vector%20database/Embedding_TMDB_movie_data.ipynb\" target=\"_parent\"><img src=\"https://colab.research.google.com/assets/colab-badge.svg\" alt=\"Open In Colab\"/></a>"
      ]
    },
    {
      "cell_type": "markdown",
      "source": [
        "# TMDB top 10,000 movies to embeded vectors\n"
      ],
      "metadata": {
        "id": "QHnWq3WZiQYR"
      }
    },
    {
      "cell_type": "code",
      "source": [
        "!pip install -q chromadb sentence_transformers"
      ],
      "metadata": {
        "id": "SmSGo4971-TZ"
      },
      "execution_count": null,
      "outputs": []
    },
    {
      "cell_type": "code",
      "source": [
        "# setup kaggle.json to directly download data or directly upload to colab\n",
        "!mkdir -p ~/.kaggle\n",
        "# !cp {your kaggle json} ~/.kaggle/\n",
        "# in my case, I put my kaggle json in drive\n",
        "!cp /content/drive/MyDrive/Machine_Learning/Kaggle/kaggle.json ~/.kaggle/\n",
        "!chmod 600 ~/.kaggle/kaggle.json"
      ],
      "metadata": {
        "id": "VgbadfnQ2Goq"
      },
      "execution_count": null,
      "outputs": []
    },
    {
      "cell_type": "code",
      "source": [
        "# download and unzip dataset\n",
        "!kaggle datasets download -d ursmaheshj/top-10000-popular-movies-tmdb-05-2023\n",
        "!unzip /content/top-10000-popular-movies-tmdb-05-2023.zip"
      ],
      "metadata": {
        "colab": {
          "base_uri": "https://localhost:8080/"
        },
        "id": "okuMx5EXiSeX",
        "outputId": "59cd929a-a0a3-4f3a-962a-2eb3d26bf42d"
      },
      "execution_count": null,
      "outputs": [
        {
          "output_type": "stream",
          "name": "stdout",
          "text": [
            "Dataset URL: https://www.kaggle.com/datasets/ursmaheshj/top-10000-popular-movies-tmdb-05-2023\n",
            "License(s): CC0-1.0\n",
            "top-10000-popular-movies-tmdb-05-2023.zip: Skipping, found more recently modified local copy (use --force to force download)\n"
          ]
        }
      ]
    },
    {
      "cell_type": "code",
      "source": [
        "# import libraries\n",
        "import chromadb\n",
        "from chromadb.utils import embedding_functions\n",
        "import pandas as pd\n",
        "import torch"
      ],
      "metadata": {
        "id": "NW-bmOlytqs0"
      },
      "execution_count": null,
      "outputs": []
    },
    {
      "cell_type": "code",
      "source": [
        "# GPU Setup\n",
        "device = torch.device(\"cuda\" if torch.cuda.is_available() else \"cpu\")\n",
        "print(f\"Using device: {device}\")"
      ],
      "metadata": {
        "id": "ssu3cjlS10vd"
      },
      "execution_count": null,
      "outputs": []
    },
    {
      "cell_type": "code",
      "source": [
        "file_name = \"top_1000_popular_movies_tmdb.csv\"\n",
        "df = pd.read_csv(file_name,lineterminator='\\n')"
      ],
      "metadata": {
        "id": "rMMKg4_qkNG-"
      },
      "execution_count": null,
      "outputs": []
    },
    {
      "cell_type": "code",
      "source": [
        "df.head(1)"
      ],
      "metadata": {
        "colab": {
          "base_uri": "https://localhost:8080/",
          "height": 222
        },
        "id": "7XL28RSlkaWx",
        "outputId": "12e73b96-fd37-4f72-a635-198a55b3a4ef"
      },
      "execution_count": null,
      "outputs": [
        {
          "output_type": "execute_result",
          "data": {
            "text/plain": [
              "   Unnamed: 0      id   title release_date                           genres  \\\n",
              "0           0  385687  Fast X   2023-05-17  ['Action', 'Crime', 'Thriller']   \n",
              "\n",
              "  original_language  vote_average  vote_count  popularity  \\\n",
              "0           English           7.4        1347    8363.473   \n",
              "\n",
              "                                            overview     budget  \\\n",
              "0  Over many missions and against impossible odds...  340000000   \n",
              "\n",
              "                                production_companies    revenue  runtime  \\\n",
              "0  ['Universal Pictures', 'Original Film', 'One R...  652000000      142   \n",
              "\n",
              "                       tagline  \n",
              "0  The end of the road begins.  "
            ],
            "text/html": [
              "\n",
              "  <div id=\"df-8e72bcbf-9104-46ac-8fac-991b7d4616c6\" class=\"colab-df-container\">\n",
              "    <div>\n",
              "<style scoped>\n",
              "    .dataframe tbody tr th:only-of-type {\n",
              "        vertical-align: middle;\n",
              "    }\n",
              "\n",
              "    .dataframe tbody tr th {\n",
              "        vertical-align: top;\n",
              "    }\n",
              "\n",
              "    .dataframe thead th {\n",
              "        text-align: right;\n",
              "    }\n",
              "</style>\n",
              "<table border=\"1\" class=\"dataframe\">\n",
              "  <thead>\n",
              "    <tr style=\"text-align: right;\">\n",
              "      <th></th>\n",
              "      <th>Unnamed: 0</th>\n",
              "      <th>id</th>\n",
              "      <th>title</th>\n",
              "      <th>release_date</th>\n",
              "      <th>genres</th>\n",
              "      <th>original_language</th>\n",
              "      <th>vote_average</th>\n",
              "      <th>vote_count</th>\n",
              "      <th>popularity</th>\n",
              "      <th>overview</th>\n",
              "      <th>budget</th>\n",
              "      <th>production_companies</th>\n",
              "      <th>revenue</th>\n",
              "      <th>runtime</th>\n",
              "      <th>tagline</th>\n",
              "    </tr>\n",
              "  </thead>\n",
              "  <tbody>\n",
              "    <tr>\n",
              "      <th>0</th>\n",
              "      <td>0</td>\n",
              "      <td>385687</td>\n",
              "      <td>Fast X</td>\n",
              "      <td>2023-05-17</td>\n",
              "      <td>['Action', 'Crime', 'Thriller']</td>\n",
              "      <td>English</td>\n",
              "      <td>7.4</td>\n",
              "      <td>1347</td>\n",
              "      <td>8363.473</td>\n",
              "      <td>Over many missions and against impossible odds...</td>\n",
              "      <td>340000000</td>\n",
              "      <td>['Universal Pictures', 'Original Film', 'One R...</td>\n",
              "      <td>652000000</td>\n",
              "      <td>142</td>\n",
              "      <td>The end of the road begins.</td>\n",
              "    </tr>\n",
              "  </tbody>\n",
              "</table>\n",
              "</div>\n",
              "    <div class=\"colab-df-buttons\">\n",
              "\n",
              "  <div class=\"colab-df-container\">\n",
              "    <button class=\"colab-df-convert\" onclick=\"convertToInteractive('df-8e72bcbf-9104-46ac-8fac-991b7d4616c6')\"\n",
              "            title=\"Convert this dataframe to an interactive table.\"\n",
              "            style=\"display:none;\">\n",
              "\n",
              "  <svg xmlns=\"http://www.w3.org/2000/svg\" height=\"24px\" viewBox=\"0 -960 960 960\">\n",
              "    <path d=\"M120-120v-720h720v720H120Zm60-500h600v-160H180v160Zm220 220h160v-160H400v160Zm0 220h160v-160H400v160ZM180-400h160v-160H180v160Zm440 0h160v-160H620v160ZM180-180h160v-160H180v160Zm440 0h160v-160H620v160Z\"/>\n",
              "  </svg>\n",
              "    </button>\n",
              "\n",
              "  <style>\n",
              "    .colab-df-container {\n",
              "      display:flex;\n",
              "      gap: 12px;\n",
              "    }\n",
              "\n",
              "    .colab-df-convert {\n",
              "      background-color: #E8F0FE;\n",
              "      border: none;\n",
              "      border-radius: 50%;\n",
              "      cursor: pointer;\n",
              "      display: none;\n",
              "      fill: #1967D2;\n",
              "      height: 32px;\n",
              "      padding: 0 0 0 0;\n",
              "      width: 32px;\n",
              "    }\n",
              "\n",
              "    .colab-df-convert:hover {\n",
              "      background-color: #E2EBFA;\n",
              "      box-shadow: 0px 1px 2px rgba(60, 64, 67, 0.3), 0px 1px 3px 1px rgba(60, 64, 67, 0.15);\n",
              "      fill: #174EA6;\n",
              "    }\n",
              "\n",
              "    .colab-df-buttons div {\n",
              "      margin-bottom: 4px;\n",
              "    }\n",
              "\n",
              "    [theme=dark] .colab-df-convert {\n",
              "      background-color: #3B4455;\n",
              "      fill: #D2E3FC;\n",
              "    }\n",
              "\n",
              "    [theme=dark] .colab-df-convert:hover {\n",
              "      background-color: #434B5C;\n",
              "      box-shadow: 0px 1px 3px 1px rgba(0, 0, 0, 0.15);\n",
              "      filter: drop-shadow(0px 1px 2px rgba(0, 0, 0, 0.3));\n",
              "      fill: #FFFFFF;\n",
              "    }\n",
              "  </style>\n",
              "\n",
              "    <script>\n",
              "      const buttonEl =\n",
              "        document.querySelector('#df-8e72bcbf-9104-46ac-8fac-991b7d4616c6 button.colab-df-convert');\n",
              "      buttonEl.style.display =\n",
              "        google.colab.kernel.accessAllowed ? 'block' : 'none';\n",
              "\n",
              "      async function convertToInteractive(key) {\n",
              "        const element = document.querySelector('#df-8e72bcbf-9104-46ac-8fac-991b7d4616c6');\n",
              "        const dataTable =\n",
              "          await google.colab.kernel.invokeFunction('convertToInteractive',\n",
              "                                                    [key], {});\n",
              "        if (!dataTable) return;\n",
              "\n",
              "        const docLinkHtml = 'Like what you see? Visit the ' +\n",
              "          '<a target=\"_blank\" href=https://colab.research.google.com/notebooks/data_table.ipynb>data table notebook</a>'\n",
              "          + ' to learn more about interactive tables.';\n",
              "        element.innerHTML = '';\n",
              "        dataTable['output_type'] = 'display_data';\n",
              "        await google.colab.output.renderOutput(dataTable, element);\n",
              "        const docLink = document.createElement('div');\n",
              "        docLink.innerHTML = docLinkHtml;\n",
              "        element.appendChild(docLink);\n",
              "      }\n",
              "    </script>\n",
              "  </div>\n",
              "\n",
              "\n",
              "    </div>\n",
              "  </div>\n"
            ],
            "application/vnd.google.colaboratory.intrinsic+json": {
              "type": "dataframe",
              "variable_name": "df",
              "summary": "{\n  \"name\": \"df\",\n  \"rows\": 10000,\n  \"fields\": [\n    {\n      \"column\": \"Unnamed: 0\",\n      \"properties\": {\n        \"dtype\": \"number\",\n        \"std\": 2886,\n        \"min\": 0,\n        \"max\": 9999,\n        \"num_unique_values\": 10000,\n        \"samples\": [\n          6252,\n          4684,\n          1731\n        ],\n        \"semantic_type\": \"\",\n        \"description\": \"\"\n      }\n    },\n    {\n      \"column\": \"id\",\n      \"properties\": {\n        \"dtype\": \"number\",\n        \"std\": 337993,\n        \"min\": 5,\n        \"max\": 1136631,\n        \"num_unique_values\": 10000,\n        \"samples\": [\n          503314,\n          2055,\n          597208\n        ],\n        \"semantic_type\": \"\",\n        \"description\": \"\"\n      }\n    },\n    {\n      \"column\": \"title\",\n      \"properties\": {\n        \"dtype\": \"string\",\n        \"num_unique_values\": 9653,\n        \"samples\": [\n          \"Absolute Power\",\n          \"La vie devant toi\",\n          \"Pulp Fiction\"\n        ],\n        \"semantic_type\": \"\",\n        \"description\": \"\"\n      }\n    },\n    {\n      \"column\": \"release_date\",\n      \"properties\": {\n        \"dtype\": \"object\",\n        \"num_unique_values\": 5995,\n        \"samples\": [\n          \"2020-05-12\",\n          \"2009-08-05\",\n          \"1974-06-25\"\n        ],\n        \"semantic_type\": \"\",\n        \"description\": \"\"\n      }\n    },\n    {\n      \"column\": \"genres\",\n      \"properties\": {\n        \"dtype\": \"category\",\n        \"num_unique_values\": 2279,\n        \"samples\": [\n          \"['Science Fiction', 'Thriller', 'Drama', 'Mystery', 'Action']\",\n          \"['War', 'Drama', 'History', 'Action']\",\n          \"['Documentary', 'Music', 'Animation', 'History']\"\n        ],\n        \"semantic_type\": \"\",\n        \"description\": \"\"\n      }\n    },\n    {\n      \"column\": \"original_language\",\n      \"properties\": {\n        \"dtype\": \"category\",\n        \"num_unique_values\": 52,\n        \"samples\": [\n          \"Swedish\",\n          \"Malayalam\",\n          \"Norwegian Bokmal\"\n        ],\n        \"semantic_type\": \"\",\n        \"description\": \"\"\n      }\n    },\n    {\n      \"column\": \"vote_average\",\n      \"properties\": {\n        \"dtype\": \"number\",\n        \"std\": 1.460605322697021,\n        \"min\": 0.0,\n        \"max\": 10.0,\n        \"num_unique_values\": 73,\n        \"samples\": [\n          6.5,\n          3.6,\n          8.4\n        ],\n        \"semantic_type\": \"\",\n        \"description\": \"\"\n      }\n    },\n    {\n      \"column\": \"vote_count\",\n      \"properties\": {\n        \"dtype\": \"number\",\n        \"std\": 2887,\n        \"min\": 0,\n        \"max\": 33822,\n        \"num_unique_values\": 3471,\n        \"samples\": [\n          236,\n          565,\n          1438\n        ],\n        \"semantic_type\": \"\",\n        \"description\": \"\"\n      }\n    },\n    {\n      \"column\": \"popularity\",\n      \"properties\": {\n        \"dtype\": \"number\",\n        \"std\": 126.49562069514691,\n        \"min\": 12.297,\n        \"max\": 8363.473,\n        \"num_unique_values\": 7969,\n        \"samples\": [\n          26.175,\n          16.959,\n          13.646\n        ],\n        \"semantic_type\": \"\",\n        \"description\": \"\"\n      }\n    },\n    {\n      \"column\": \"overview\",\n      \"properties\": {\n        \"dtype\": \"string\",\n        \"num_unique_values\": 9920,\n        \"samples\": [\n          \"Sara and Brian live an idyllic life with their young son and daughter. But their family is rocked by sudden, heartbreaking news that forces them to make a difficult and unorthodox choice in order to save their baby girl's life. The parents' desperate decision raises both ethical and moral questions and rips away at the foundation of their relationship. Their actions ultimately set off a court case that threatens to tear the family apart, while revealing surprising truths that challenge everyone's perceptions of love and loyalty and give new meaning to the definition of healing.\",\n          \"An experienced commercial pilot is forced to collaborate with his country's intelligence services to avoid being punished for a serious fault he committed on the job. He is quickly plunged into an underworld of intrigue and extortion that will put his life at risk and he will pay a very high price to escape from it.\",\n          \"In a small fishing village, a gloomy middle school student named Kai meets a mermaid named Lu.\"\n        ],\n        \"semantic_type\": \"\",\n        \"description\": \"\"\n      }\n    },\n    {\n      \"column\": \"budget\",\n      \"properties\": {\n        \"dtype\": \"number\",\n        \"std\": 38704395,\n        \"min\": 0,\n        \"max\": 460000000,\n        \"num_unique_values\": 699,\n        \"samples\": [\n          43000000,\n          1549000,\n          9400000\n        ],\n        \"semantic_type\": \"\",\n        \"description\": \"\"\n      }\n    },\n    {\n      \"column\": \"production_companies\",\n      \"properties\": {\n        \"dtype\": \"string\",\n        \"num_unique_values\": 8036,\n        \"samples\": [\n          \"['AGC Studios', 'RAW', 'Gaspin Media']\",\n          \"['Trauma Spa', 'Border Motion Cinema', 'Chris Reiben Productions', 'SBH Films', 'Too Much Films']\",\n          \"['Victoires Productions', 'Constellation', 'Hachette Premi\\u00e8re', 'Sofinergie Films', 'Sofinergie 2', 'Investimage 2', 'Fondation GAN pour le Cin\\u00e9ma', 'Union G\\u00e9n\\u00e9rale Cin\\u00e9matographique (UGC)']\"\n        ],\n        \"semantic_type\": \"\",\n        \"description\": \"\"\n      }\n    },\n    {\n      \"column\": \"revenue\",\n      \"properties\": {\n        \"dtype\": \"number\",\n        \"std\": 155300698,\n        \"min\": 0,\n        \"max\": 2923706026,\n        \"num_unique_values\": 5372,\n        \"samples\": [\n          795922298,\n          5285197,\n          2471778\n        ],\n        \"semantic_type\": \"\",\n        \"description\": \"\"\n      }\n    },\n    {\n      \"column\": \"runtime\",\n      \"properties\": {\n        \"dtype\": \"number\",\n        \"std\": 27,\n        \"min\": 0,\n        \"max\": 366,\n        \"num_unique_values\": 216,\n        \"samples\": [\n          29,\n          205,\n          57\n        ],\n        \"semantic_type\": \"\",\n        \"description\": \"\"\n      }\n    },\n    {\n      \"column\": \"tagline\",\n      \"properties\": {\n        \"dtype\": \"string\",\n        \"num_unique_values\": 7328,\n        \"samples\": [\n          \"Be my lover, be my love\",\n          \"This is not what he had in mind.\",\n          \"The Rush Is On!\"\n        ],\n        \"semantic_type\": \"\",\n        \"description\": \"\"\n      }\n    }\n  ]\n}"
            }
          },
          "metadata": {},
          "execution_count": 7
        }
      ]
    },
    {
      "cell_type": "code",
      "source": [
        "df.info()"
      ],
      "metadata": {
        "colab": {
          "base_uri": "https://localhost:8080/"
        },
        "id": "qmdSRATytFJb",
        "outputId": "12bbe210-722b-428e-9f32-8096bed2153d"
      },
      "execution_count": null,
      "outputs": [
        {
          "output_type": "stream",
          "name": "stdout",
          "text": [
            "<class 'pandas.core.frame.DataFrame'>\n",
            "RangeIndex: 10000 entries, 0 to 9999\n",
            "Data columns (total 15 columns):\n",
            " #   Column                Non-Null Count  Dtype  \n",
            "---  ------                --------------  -----  \n",
            " 0   Unnamed: 0            10000 non-null  int64  \n",
            " 1   id                    10000 non-null  int64  \n",
            " 2   title                 10000 non-null  object \n",
            " 3   release_date          9977 non-null   object \n",
            " 4   genres                10000 non-null  object \n",
            " 5   original_language     10000 non-null  object \n",
            " 6   vote_average          10000 non-null  float64\n",
            " 7   vote_count            10000 non-null  int64  \n",
            " 8   popularity            10000 non-null  float64\n",
            " 9   overview              9924 non-null   object \n",
            " 10  budget                10000 non-null  int64  \n",
            " 11  production_companies  10000 non-null  object \n",
            " 12  revenue               10000 non-null  int64  \n",
            " 13  runtime               10000 non-null  int64  \n",
            " 14  tagline               7383 non-null   object \n",
            "dtypes: float64(2), int64(6), object(7)\n",
            "memory usage: 1.1+ MB\n"
          ]
        }
      ]
    },
    {
      "cell_type": "code",
      "source": [
        "df.columns"
      ],
      "metadata": {
        "colab": {
          "base_uri": "https://localhost:8080/"
        },
        "id": "7XERQwzZkbyc",
        "outputId": "024e44ca-a84e-4184-d9e9-3a568dc9885d"
      },
      "execution_count": null,
      "outputs": [
        {
          "output_type": "execute_result",
          "data": {
            "text/plain": [
              "Index(['Unnamed: 0', 'id', 'title', 'release_date', 'genres',\n",
              "       'original_language', 'vote_average', 'vote_count', 'popularity',\n",
              "       'overview', 'budget', 'production_companies', 'revenue', 'runtime',\n",
              "       'tagline'],\n",
              "      dtype='object')"
            ]
          },
          "metadata": {},
          "execution_count": 9
        }
      ]
    },
    {
      "cell_type": "code",
      "source": [
        "df = df.drop(columns=['Unnamed: 0','original_language', 'vote_average', 'vote_count', 'budget', 'production_companies', 'revenue'])"
      ],
      "metadata": {
        "id": "QGuw20uVkdWE"
      },
      "execution_count": null,
      "outputs": []
    },
    {
      "cell_type": "code",
      "source": [
        "df = df.copy()\n",
        "\n",
        "# Convert release_date to datetime and extract the year\n",
        "df.loc[:, 'release_year'] = pd.to_datetime(df['release_date'], errors='coerce').dt.year\n",
        "df.loc[:, 'release_year'] = df['release_year'].fillna(0).astype(int)\n",
        "\n",
        "df.drop(columns=['release_date'], inplace=True)\n",
        "df['release_year'] = df['release_year'].astype(int)"
      ],
      "metadata": {
        "id": "PzCt1bran15o"
      },
      "execution_count": null,
      "outputs": []
    },
    {
      "cell_type": "code",
      "source": [
        "df['genres'] = df['genres'].apply(eval).apply(lambda x: ', '.join(x))\n"
      ],
      "metadata": {
        "id": "XgAUxw8ropyF"
      },
      "execution_count": null,
      "outputs": []
    },
    {
      "cell_type": "code",
      "source": [
        "df[\"overview\"] = df.apply(\n",
        "    lambda row: (row[\"overview\"] if pd.notna(row[\"overview\"]) else \"\") +\n",
        "                (\" \" + row[\"tagline\"] if pd.notna(row[\"tagline\"]) else \"\"),\n",
        "    axis=1\n",
        ")\n",
        "df = df.drop(columns=['tagline'])"
      ],
      "metadata": {
        "id": "e9HLuLUDoaUa"
      },
      "execution_count": null,
      "outputs": []
    },
    {
      "cell_type": "code",
      "source": [
        "df.isnull().sum()"
      ],
      "metadata": {
        "colab": {
          "base_uri": "https://localhost:8080/"
        },
        "id": "fj3WJ0vPobYj",
        "outputId": "9ef22aab-04ac-46c0-8b6c-5c89f8c5ac10"
      },
      "execution_count": null,
      "outputs": [
        {
          "output_type": "execute_result",
          "data": {
            "text/plain": [
              "id              0\n",
              "title           0\n",
              "genres          0\n",
              "popularity      0\n",
              "overview        0\n",
              "runtime         0\n",
              "release_year    0\n",
              "dtype: int64"
            ]
          },
          "metadata": {},
          "execution_count": 17
        }
      ]
    },
    {
      "cell_type": "code",
      "source": [
        "df.info()"
      ],
      "metadata": {
        "colab": {
          "base_uri": "https://localhost:8080/"
        },
        "id": "cd2Y4Qm2rJ24",
        "outputId": "94125a75-12db-423c-c65b-f650e7b598f3"
      },
      "execution_count": null,
      "outputs": [
        {
          "output_type": "stream",
          "name": "stdout",
          "text": [
            "<class 'pandas.core.frame.DataFrame'>\n",
            "RangeIndex: 10000 entries, 0 to 9999\n",
            "Data columns (total 7 columns):\n",
            " #   Column        Non-Null Count  Dtype  \n",
            "---  ------        --------------  -----  \n",
            " 0   id            10000 non-null  int64  \n",
            " 1   title         10000 non-null  object \n",
            " 2   genres        10000 non-null  object \n",
            " 3   popularity    10000 non-null  float64\n",
            " 4   overview      10000 non-null  object \n",
            " 5   runtime       10000 non-null  int64  \n",
            " 6   release_year  10000 non-null  int64  \n",
            "dtypes: float64(1), int64(3), object(3)\n",
            "memory usage: 547.0+ KB\n"
          ]
        }
      ]
    },
    {
      "cell_type": "code",
      "source": [
        "ids       = df[\"id\"].astype(str).tolist()\n",
        "documents = df[\"overview\"].tolist()\n",
        "metadatas = df[['title', 'genres', 'popularity', 'release_year', 'runtime']].to_dict(orient='records')"
      ],
      "metadata": {
        "id": "BCeWr3H1rJ0m"
      },
      "execution_count": null,
      "outputs": []
    },
    {
      "cell_type": "code",
      "source": [
        "# Create a Chroma Collection\n",
        "chroma_client = chromadb.PersistentClient(path=\"tmdbtopmovies\")\n",
        "\n",
        "# choose any available embedding function. Here I select sentence transformer \"all-MiniLM-L12-v2\"\n",
        "sentence_transformer_ef = embedding_functions.SentenceTransformerEmbeddingFunction(\n",
        "    model_name=\"all-MiniLM-L12-v2\", device=\"cuda\")\n",
        "\n",
        "collection = chroma_client.get_or_create_collection(\n",
        "    name=\"movies_collection\", embedding_function=sentence_transformer_ef)"
      ],
      "metadata": {
        "colab": {
          "base_uri": "https://localhost:8080/"
        },
        "id": "HgctO__JoauX",
        "outputId": "1e4ec281-31c6-4ea7-b2b3-8b8feea1ff1d"
      },
      "execution_count": null,
      "outputs": [
        {
          "output_type": "stream",
          "name": "stderr",
          "text": [
            "/usr/local/lib/python3.10/dist-packages/huggingface_hub/utils/_token.py:89: UserWarning: \n",
            "The secret `HF_TOKEN` does not exist in your Colab secrets.\n",
            "To authenticate with the Hugging Face Hub, create a token in your settings tab (https://huggingface.co/settings/tokens), set it as secret in your Google Colab and restart your session.\n",
            "You will be able to reuse this secret in all of your notebooks.\n",
            "Please note that authentication is recommended but still optional to access public models or datasets.\n",
            "  warnings.warn(\n",
            "/usr/local/lib/python3.10/dist-packages/huggingface_hub/file_download.py:1132: FutureWarning: `resume_download` is deprecated and will be removed in version 1.0.0. Downloads always resume when possible. If you want to force a new download, use `force_download=True`.\n",
            "  warnings.warn(\n"
          ]
        }
      ]
    },
    {
      "cell_type": "code",
      "source": [
        "# Add documents to the collection\n",
        "collection.add(\n",
        "    documents=documents,\n",
        "    ids=ids,\n",
        "    metadatas=metadatas\n",
        ")"
      ],
      "metadata": {
        "id": "De2QIT4WsAgW"
      },
      "execution_count": null,
      "outputs": []
    },
    {
      "cell_type": "code",
      "source": [
        "# Check the database with example quiery\n",
        "keytext = [\"our mind is the scene of the crime. The dream is real.\"]\n",
        "results = collection.query(query_texts=keytext, n_results=20)\n",
        "\n",
        "for result in results[\"metadatas\"][0]:\n",
        "  print(result['title'])"
      ],
      "metadata": {
        "colab": {
          "base_uri": "https://localhost:8080/"
        },
        "id": "4QNHzq_TuCmy",
        "outputId": "81baa483-c06c-4b1f-b288-569de0a25317"
      },
      "execution_count": null,
      "outputs": [
        {
          "output_type": "stream",
          "name": "stdout",
          "text": [
            "Inception\n",
            "Demonic\n",
            "Before I Wake\n",
            "Altered States\n",
            "Malignant\n",
            "Wildflower\n",
            "The Cell\n",
            "The City of Lost Children\n",
            "Sex Plate 17\n",
            "Gothika\n",
            "Waking Life\n",
            "The Howling\n",
            "P.O. Box Tinto Brass\n",
            "Bottle Rocket\n",
            "Memory\n",
            "The Hills Run Red\n",
            "Brazil\n",
            "Cobra\n",
            "The Babysitter\n",
            "Slumberland\n"
          ]
        }
      ]
    }
  ]
}